{
 "cells": [
  {
   "cell_type": "code",
   "execution_count": 8,
   "id": "19e6e83f",
   "metadata": {},
   "outputs": [
    {
     "name": "stdout",
     "output_type": "stream",
     "text": [
      "Введите ФИО в формате \"Фамилия И.О.\" \n",
      "Петя\n",
      "Столица Италии\n",
      "Рим\n",
      "Столица Великобритании\n",
      "Лондон\n",
      "Столица России\n",
      "Москва\n",
      "Столица Узбекистана\n",
      "Ташкент\n",
      "Столица США\n",
      "Вашингтон\n",
      "\n",
      "Тест завершен\n",
      "\n",
      "Ваш результат 100.0%\n",
      "Время прохождения теста 0:00:15.982199\n",
      "\n",
      "\n"
     ]
    },
    {
     "data": {
      "text/plain": [
       "''"
      ]
     },
     "execution_count": 8,
     "metadata": {},
     "output_type": "execute_result"
    }
   ],
   "source": [
    "from datetime import datetime\n",
    "import random\n",
    "import pandas as pd\n",
    "\n",
    "print('Введите ФИО в формате \"Фамилия И.О.\" ')\n",
    "fio = str(input())\n",
    "file = open(\"C:/Private/Python/testing/res/\" + fio + \".txt\", \"w\")\n",
    "file = open(\"C:/Private/Python/testing/res/\" + fio + \".txt\", \"+a\")\n",
    "file.write(fio + '\\n')\n",
    "start_datetime = datetime.now()\n",
    "file.write(str(start_datetime) + '\\n')\n",
    "\n",
    "data = {\n",
    "    'ind_q': [1, 2, 3, 4, 5],\n",
    "    'q': ['Столица России', 'Столица США', 'Столица Великобритании', 'Столица Узбекистана', 'Столица Италии'],\n",
    "    'an': ['Москва', 'Вашингтон', 'Лондон', 'Ташкент', 'Рим']\n",
    "\n",
    "}\n",
    "\n",
    "df = pd.DataFrame(data)\n",
    "df = df.sample(frac=1).reset_index(drop=True)\n",
    "answ = []\n",
    "for n in range(len(df['q'])):\n",
    "    print(df.iloc [n]['q'])\n",
    "    ant = input()\n",
    "    answ.append(ant)\n",
    "    file.write(str(df.iloc [n]['ind_q']) + '. ' + ant + '\\n')\n",
    "finish_datetime = datetime.now()\n",
    "file.write(str(finish_datetime) + '\\n')\n",
    "df.insert (loc= len(df.columns) , column='answ', value = answ)\n",
    "df['compare'] = df['an'] == df['answ']\n",
    "w = len(df[df['compare']==True])\n",
    "time_exam = finish_datetime - start_datetime\n",
    "result = w/5*100\n",
    "svod = open(\"C:/Private/Python/testing/res/results.txt\", \"+a\")\n",
    "svod.write(str(fio) + '_' + str(result) + '_' + str(time_exam) + '\\n')\n",
    "svod.close()\n",
    "print()\n",
    "print('Тест завершен' + '\\n')\n",
    "print('Ваш результат', str(w/5*100) + '%')\n",
    "print('Время прохождения теста', time_exam)\n",
    "file.write('Результат ' + str(w/5*100) + '%' + '\\n')\n",
    "file.write('Время прохождения теста ' + str(time_exam) + '\\n')\n",
    "file.close()\n",
    "input()\n",
    "input()"
   ]
  },
  {
   "cell_type": "code",
   "execution_count": null,
   "id": "c4ec6be7",
   "metadata": {},
   "outputs": [],
   "source": []
  }
 ],
 "metadata": {
  "kernelspec": {
   "display_name": "Python 3 (ipykernel)",
   "language": "python",
   "name": "python3"
  },
  "language_info": {
   "codemirror_mode": {
    "name": "ipython",
    "version": 3
   },
   "file_extension": ".py",
   "mimetype": "text/x-python",
   "name": "python",
   "nbconvert_exporter": "python",
   "pygments_lexer": "ipython3",
   "version": "3.11.5"
  }
 },
 "nbformat": 4,
 "nbformat_minor": 5
}
